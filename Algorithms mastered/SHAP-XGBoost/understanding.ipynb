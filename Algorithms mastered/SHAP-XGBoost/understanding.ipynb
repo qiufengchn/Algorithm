{
 "cells": [
  {
   "cell_type": "markdown",
   "metadata": {},
   "source": [
    "# 前言"
   ]
  },
  {
   "cell_type": "markdown",
   "metadata": {},
   "source": [
    "本文深入探讨了如何通过SHAP值（Shapley Additive Explanations）正确解读XGBoost和随机森林模型的结果。SHAP值提供了一种统一的解释框架，帮助理解模型中各特征对预测结果的贡献。"
   ]
  },
  {
   "cell_type": "markdown",
   "metadata": {},
   "source": [
    "# 背景"
   ]
  },
  {
   "cell_type": "markdown",
   "metadata": {},
   "source": [
    "在机器学习的世界里，模型解释性工具的需求日益增加，SHAP作为一种强大的解释方法，已被广泛应用，然而，许多初学者和甚至一些经验丰富的从业者可能会忽略一个关键的细节，shap值的解释需要根据模型性质来进行解释如：不同模型在SHAP力图中显示的 f(x) 和使用的模型相关从而导致含义并不相同，本文将通过一个实际案例，深入剖析这一差异，尤其是当你使用XGBoost与随机森林（RF）分类模型时，SHAP力图中 f(x) 所代表的内容如何发生变化，这一差异不仅影响理解模型的输出，还直接影响对模型预测结果的解释与决策，通过阅读本文，你将能够更好地掌握SHAP力图解释的核心概念，避免在模型分析中的常见误区"
   ]
  },
  {
   "cell_type": "markdown",
   "metadata": {},
   "source": [
    "## 差异对比"
   ]
  },
  {
   "cell_type": "markdown",
   "metadata": {},
   "source": [
    "### 二分类XGBoost"
   ]
  },
  {
   "cell_type": "markdown",
   "metadata": {},
   "source": [
    "这是前文顶刊APP部署复现——基于XGBoost模型的心脏病风险预测与解释：Streamlit应用程序开发二分类XGBoost部署的APP输出的shap力图，可以发现f(X)=-2.50很明显这不是模型属于某个类别的概率，具体解读会在接下来根据代码进行解释。"
   ]
  },
  {
   "cell_type": "markdown",
   "metadata": {},
   "source": [
    "### 二分类随机森林RF"
   ]
  },
  {
   "cell_type": "markdown",
   "metadata": {},
   "source": [
    "这里是一篇医学柳叶刀顶刊部署的APP，使用的模型为随机森林RF，它这里的解释为f(X)为该预测类别的概率，和XGBoost的力图输出f(X)存在很大差异，于是我们利用数据分别实现这两个模型来探讨一下到底是因为为什么，出现了这种情况"
   ]
  },
  {
   "cell_type": "markdown",
   "metadata": {},
   "source": [
    "## 代码"
   ]
  },
  {
   "cell_type": "markdown",
   "metadata": {},
   "source": [
    "### 数据读取处理"
   ]
  },
  {
   "cell_type": "code",
   "execution_count": null,
   "metadata": {},
   "outputs": [],
   "source": [
    "import pandas as pd\n",
    "import numpy as np\n",
    "import matplotlib.pyplot as plt\n",
    "from sklearn.model_selection import train_test_split\n",
    "\n",
    "df = pd.read_csv('Dataset.csv')\n",
    "\n",
    "# 划分特征和目标变量\n",
    "X = df.drop(['target'], axis=1)\n",
    "y = df['target']\n",
    "\n",
    "# 划分训练集和测试集\n",
    "X_train, X_test, y_train, y_test = train_test_split(X, y, test_size=0.2,crandom_state=42, stratify=df['target'])\n",
    "\n",
    "df.head()"
   ]
  },
  {
   "cell_type": "code",
   "execution_count": null,
   "metadata": {},
   "outputs": [],
   "source": [
    "# 参考链接：https://mp.weixin.qq.com/s/D7B3ca3eVrelMjEjhXFlSg"
   ]
  }
 ],
 "metadata": {
  "kernelspec": {
   "display_name": "base",
   "language": "python",
   "name": "python3"
  },
  "language_info": {
   "codemirror_mode": {
    "name": "ipython",
    "version": 3
   },
   "file_extension": ".py",
   "mimetype": "text/x-python",
   "name": "python",
   "nbconvert_exporter": "python",
   "pygments_lexer": "ipython3",
   "version": "3.12.4"
  }
 },
 "nbformat": 4,
 "nbformat_minor": 2
}
